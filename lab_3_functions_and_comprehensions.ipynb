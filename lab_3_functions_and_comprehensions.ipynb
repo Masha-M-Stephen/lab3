{
  "nbformat": 4,
  "nbformat_minor": 0,
  "metadata": {
    "anaconda-cloud": {},
    "kernelspec": {
      "display_name": "Python 3",
      "language": "python",
      "name": "python3"
    },
    "language_info": {
      "codemirror_mode": {
        "name": "ipython",
        "version": 3
      },
      "file_extension": ".py",
      "mimetype": "text/x-python",
      "name": "python",
      "nbconvert_exporter": "python",
      "pygments_lexer": "ipython3",
      "version": "3.7.2"
    },
    "colab": {
      "name": "lab_3_functions_and_comprehensions.ipynb",
      "provenance": [],
      "include_colab_link": true
    }
  },
  "cells": [
    {
      "cell_type": "markdown",
      "metadata": {
        "id": "view-in-github",
        "colab_type": "text"
      },
      "source": [
        "<a href=\"https://colab.research.google.com/github/Masha-M-Stephen/lab3/blob/master/lab_3_functions_and_comprehensions.ipynb\" target=\"_parent\"><img src=\"https://colab.research.google.com/assets/colab-badge.svg\" alt=\"Open In Colab\"/></a>"
      ]
    },
    {
      "cell_type": "markdown",
      "metadata": {
        "id": "1QBf6_O0SZft",
        "colab_type": "text"
      },
      "source": [
        "# Lab 3 - Function and List Comprehension Exercises\n",
        "\n",
        "Please complete each exercise and submit your work on D2L.\n",
        "\n",
        "**Rules:**\n",
        "\n",
        "1. All functions should be defined with `lambda` (only test functions should use `def` statements.)\n",
        "2. Each function should be accompanied by test function that covers normal and edge cases."
      ]
    },
    {
      "cell_type": "markdown",
      "metadata": {
        "id": "S5jm3zbVSZfu",
        "colab_type": "text"
      },
      "source": [
        "### <font color='red'> Exercise 1 </font>\n",
        "\n",
        "Write a function `sum_of_squares` that computes the sum of the squares of the numbers in the input list. *Use a helper function in your solution*\n",
        "\n",
        "\n",
        "**Example** `sum_of_squares([2, 3, 4]) === 4 + 9 + 16`  **HINT:** Use a comprehension to square the values and `sum` to compute the sum."
      ]
    },
    {
      "cell_type": "code",
      "metadata": {
        "id": "8GwxwGGOSZfv",
        "colab_type": "code",
        "colab": {
          "base_uri": "https://localhost:8080/",
          "height": 34
        },
        "outputId": "0b8d160f-6c32-40cb-846f-8fcf719513d5"
      },
      "source": [
        "#helper functions\n",
        "sq = lambda c: [item*item for item in c ]\n",
        "\n",
        "#lambda function\n",
        "sum_of_squares = lambda x: sum(sq(list(x)))\n",
        "sum_of_squares([2, 3, 4])\n"
      ],
      "execution_count": 8,
      "outputs": [
        {
          "output_type": "execute_result",
          "data": {
            "text/plain": [
              "29"
            ]
          },
          "metadata": {
            "tags": []
          },
          "execution_count": 8
        }
      ]
    },
    {
      "cell_type": "code",
      "metadata": {
        "id": "Gtm3JNAqiPE1",
        "colab_type": "code",
        "colab": {
          "base_uri": "https://localhost:8080/",
          "height": 34
        },
        "outputId": "92fa1934-e532-47fd-dd8e-17fe6ed967ba"
      },
      "source": [
        "#checking on the lambda function\n",
        "sum_of_squares([1, 1, 1])"
      ],
      "execution_count": 2,
      "outputs": [
        {
          "output_type": "execute_result",
          "data": {
            "text/plain": [
              "3"
            ]
          },
          "metadata": {
            "tags": []
          },
          "execution_count": 2
        }
      ]
    },
    {
      "cell_type": "code",
      "metadata": {
        "id": "sYK4QjMQjJql",
        "colab_type": "code",
        "colab": {
          "base_uri": "https://localhost:8080/",
          "height": 34
        },
        "outputId": "0790c06c-3487-4072-8792-bef47c11695e"
      },
      "source": [
        "sum_of_squares([3, 1, 4])"
      ],
      "execution_count": 11,
      "outputs": [
        {
          "output_type": "execute_result",
          "data": {
            "text/plain": [
              "26"
            ]
          },
          "metadata": {
            "tags": []
          },
          "execution_count": 11
        }
      ]
    },
    {
      "cell_type": "code",
      "metadata": {
        "id": "9i0nYyXJ3657",
        "colab_type": "code",
        "colab": {}
      },
      "source": [
        "#making a def function\n",
        "def sum_of_squares(l):\n",
        "    output = sum(item*item for item in l )\n",
        "    return output"
      ],
      "execution_count": 9,
      "outputs": []
    },
    {
      "cell_type": "code",
      "metadata": {
        "id": "Dqq-okxR5BAc",
        "colab_type": "code",
        "colab": {}
      },
      "source": [
        "#function with a doc string\n",
        "def sum_of_squares(l):\n",
        "    \"\"\"\n",
        "    This function finds the sum of squares for items in a list\n",
        "    l= list\n",
        "    \"\"\"\n",
        "    output = sum(item*item for item in l )\n",
        "    return output\n",
        "\n",
        "def test_sum_of_squares():\n",
        "    assert sum_of_squares([1,0,0]) ==1\n",
        "    assert sum_of_squares([0,0,0]) ==0\n",
        "    assert sum_of_squares([3, 1, 4])==26\n",
        "    test_sum_of_squares()"
      ],
      "execution_count": 12,
      "outputs": []
    },
    {
      "cell_type": "markdown",
      "metadata": {
        "id": "Q4qXVEf48K-T",
        "colab_type": "text"
      },
      "source": [
        "As you can see, the above function works great"
      ]
    },
    {
      "cell_type": "markdown",
      "metadata": {
        "id": "MyO5BMqzSZf3",
        "colab_type": "text"
      },
      "source": [
        "### <font color=\"red\"> Exercise 2 </font>\n",
        "\n",
        "Write a function called `sum_even` that sums up all the even numbers in a list.  Include helper functions in your solution.\n",
        "\n",
        "**Example** `sum_even([1,2,3,4]) == 6`\n",
        "\n",
        "**Hint** You need a filter here."
      ]
    },
    {
      "cell_type": "code",
      "metadata": {
        "id": "1CIcQPq4SZf4",
        "colab_type": "code",
        "colab": {
          "base_uri": "https://localhost:8080/",
          "height": 34
        },
        "outputId": "a15faf4f-bca0-4a36-e37d-bd500b77e42c"
      },
      "source": [
        "#helper function \n",
        "even = lambda x: x % 2 ==0\n",
        "\n",
        "#lambda function\n",
        "sum_even = lambda z: sum (filter(even,z))\n",
        "sum_even([1,10,12,13,14])"
      ],
      "execution_count": 15,
      "outputs": [
        {
          "output_type": "execute_result",
          "data": {
            "text/plain": [
              "36"
            ]
          },
          "metadata": {
            "tags": []
          },
          "execution_count": 15
        }
      ]
    },
    {
      "cell_type": "code",
      "metadata": {
        "id": "3rNaFaJB8U7F",
        "colab_type": "code",
        "colab": {}
      },
      "source": [
        "#making a def function\n",
        "def sum_even (b):\n",
        "    output = sum(i for i in list(b) if i%2 ==0)\n",
        "    return output"
      ],
      "execution_count": 21,
      "outputs": []
    },
    {
      "cell_type": "code",
      "metadata": {
        "id": "NExkdhik8VJH",
        "colab_type": "code",
        "colab": {}
      },
      "source": [
        "#making a doc string and tests \n",
        "def sum_even (b):\n",
        "    \"\"\"\n",
        "    This function finds the sum of all even numbers in a list\n",
        "    i = individual int in that list\n",
        "    b= list\n",
        "    \"\"\"\n",
        "\n",
        "    output = sum(i for i in list(b) if i%2 ==0)\n",
        "    return output\n",
        "\n",
        "def test_sum_even():\n",
        "    assert sum_even([1,0,-2]) ==-2\n",
        "    assert sum_even([0,0,0]) ==0\n",
        "    assert sum_even([3, 1, 4])==4\n",
        "    test_sum_even()"
      ],
      "execution_count": 24,
      "outputs": []
    },
    {
      "cell_type": "markdown",
      "metadata": {
        "id": "P-Uyt0vV_IgL",
        "colab_type": "text"
      },
      "source": [
        "  As you can see, the above function works great"
      ]
    },
    {
      "cell_type": "markdown",
      "metadata": {
        "id": "uZnlDVb8SZf8",
        "colab_type": "text"
      },
      "source": [
        "### <font color=\"red\"> Exercise 3 </font>\n",
        "\n",
        "Write a function called `freq` that takes a value `a` and a list `L` as arguments and returns the number of times `a` occurs in `L`.\n",
        "\n",
        "**Example** `freq(1,[1,2,1,3,4]) == 2`\n",
        "\n",
        "**Hint** Use a filter in your comprehension and the `len` function"
      ]
    },
    {
      "cell_type": "code",
      "metadata": {
        "id": "hF_KQTueSZf9",
        "colab_type": "code",
        "colab": {
          "base_uri": "https://localhost:8080/",
          "height": 34
        },
        "outputId": "1567daab-fc1c-4ec3-b3f3-cd1d78a45505"
      },
      "source": [
        "\n",
        "#I used a list\n",
        "freq = lambda a,l: len(list(item for item in list(l) if item == a))\n",
        "freq(2,[2,3,56,29,2,45,2,24,2,2,2,22,2,22])"
      ],
      "execution_count": 27,
      "outputs": [
        {
          "output_type": "execute_result",
          "data": {
            "text/plain": [
              "7"
            ]
          },
          "metadata": {
            "tags": []
          },
          "execution_count": 27
        }
      ]
    },
    {
      "cell_type": "code",
      "metadata": {
        "id": "0dULqXJzMRTx",
        "colab_type": "code",
        "colab": {
          "base_uri": "https://localhost:8080/",
          "height": 279
        },
        "outputId": "c4674d78-10e5-476e-c0c9-852a9af253f2"
      },
      "source": [
        "#this wouldnt work\n",
        "fq = lambda a,b: len(filter(a,list(b)))\n",
        "fq(2,[2,2,3,2])"
      ],
      "execution_count": 26,
      "outputs": [
        {
          "output_type": "error",
          "ename": "TypeError",
          "evalue": "ignored",
          "traceback": [
            "\u001b[0;31m---------------------------------------------------------------------------\u001b[0m",
            "\u001b[0;31mTypeError\u001b[0m                                 Traceback (most recent call last)",
            "\u001b[0;32m<ipython-input-26-29357eb3e5f0>\u001b[0m in \u001b[0;36m<module>\u001b[0;34m()\u001b[0m\n\u001b[1;32m      1\u001b[0m \u001b[0;31m#this wouldnt work\u001b[0m\u001b[0;34m\u001b[0m\u001b[0;34m\u001b[0m\u001b[0;34m\u001b[0m\u001b[0m\n\u001b[1;32m      2\u001b[0m \u001b[0mfq\u001b[0m \u001b[0;34m=\u001b[0m \u001b[0;32mlambda\u001b[0m \u001b[0ma\u001b[0m\u001b[0;34m,\u001b[0m\u001b[0mb\u001b[0m\u001b[0;34m:\u001b[0m \u001b[0mlen\u001b[0m\u001b[0;34m(\u001b[0m\u001b[0mfilter\u001b[0m\u001b[0;34m(\u001b[0m\u001b[0ma\u001b[0m\u001b[0;34m,\u001b[0m\u001b[0mlist\u001b[0m\u001b[0;34m(\u001b[0m\u001b[0mb\u001b[0m\u001b[0;34m)\u001b[0m\u001b[0;34m)\u001b[0m\u001b[0;34m)\u001b[0m\u001b[0;34m\u001b[0m\u001b[0;34m\u001b[0m\u001b[0m\n\u001b[0;32m----> 3\u001b[0;31m \u001b[0mfq\u001b[0m\u001b[0;34m(\u001b[0m\u001b[0;36m2\u001b[0m\u001b[0;34m,\u001b[0m\u001b[0;34m[\u001b[0m\u001b[0;36m2\u001b[0m\u001b[0;34m,\u001b[0m\u001b[0;36m2\u001b[0m\u001b[0;34m,\u001b[0m\u001b[0;36m3\u001b[0m\u001b[0;34m,\u001b[0m\u001b[0;36m2\u001b[0m\u001b[0;34m]\u001b[0m\u001b[0;34m)\u001b[0m\u001b[0;34m\u001b[0m\u001b[0;34m\u001b[0m\u001b[0m\n\u001b[0m",
            "\u001b[0;32m<ipython-input-26-29357eb3e5f0>\u001b[0m in \u001b[0;36m<lambda>\u001b[0;34m(a, b)\u001b[0m\n\u001b[1;32m      1\u001b[0m \u001b[0;31m#this wouldnt work\u001b[0m\u001b[0;34m\u001b[0m\u001b[0;34m\u001b[0m\u001b[0;34m\u001b[0m\u001b[0m\n\u001b[0;32m----> 2\u001b[0;31m \u001b[0mfq\u001b[0m \u001b[0;34m=\u001b[0m \u001b[0;32mlambda\u001b[0m \u001b[0ma\u001b[0m\u001b[0;34m,\u001b[0m\u001b[0mb\u001b[0m\u001b[0;34m:\u001b[0m \u001b[0mlen\u001b[0m\u001b[0;34m(\u001b[0m\u001b[0mfilter\u001b[0m\u001b[0;34m(\u001b[0m\u001b[0ma\u001b[0m\u001b[0;34m,\u001b[0m\u001b[0mlist\u001b[0m\u001b[0;34m(\u001b[0m\u001b[0mb\u001b[0m\u001b[0;34m)\u001b[0m\u001b[0;34m)\u001b[0m\u001b[0;34m)\u001b[0m\u001b[0;34m\u001b[0m\u001b[0;34m\u001b[0m\u001b[0m\n\u001b[0m\u001b[1;32m      3\u001b[0m \u001b[0mfq\u001b[0m\u001b[0;34m(\u001b[0m\u001b[0;36m2\u001b[0m\u001b[0;34m,\u001b[0m\u001b[0;34m[\u001b[0m\u001b[0;36m2\u001b[0m\u001b[0;34m,\u001b[0m\u001b[0;36m2\u001b[0m\u001b[0;34m,\u001b[0m\u001b[0;36m3\u001b[0m\u001b[0;34m,\u001b[0m\u001b[0;36m2\u001b[0m\u001b[0;34m]\u001b[0m\u001b[0;34m)\u001b[0m\u001b[0;34m\u001b[0m\u001b[0;34m\u001b[0m\u001b[0m\n",
            "\u001b[0;31mTypeError\u001b[0m: object of type 'filter' has no len()"
          ]
        }
      ]
    },
    {
      "cell_type": "code",
      "metadata": {
        "id": "W6Ddcz7V_SIL",
        "colab_type": "code",
        "colab": {}
      },
      "source": [
        "#making a def function:\n",
        "def freq(a,b):\n",
        "    output = len(list(i for i in list(b) if i == a))\n",
        "    return output"
      ],
      "execution_count": 25,
      "outputs": []
    },
    {
      "cell_type": "code",
      "metadata": {
        "id": "jzWEVnaX_sJC",
        "colab_type": "code",
        "colab": {}
      },
      "source": [
        "#making a doc string and test \n",
        "def freq(a,b):\n",
        "    \"\"\"\n",
        "    This function gives the lenght of a list for an frequency of that int in the list\n",
        "    a = the number you want to check its frequency\n",
        "    b = the list\n",
        "    \"\"\"\n",
        "    output = len(list(i for i in list(b) if i == a))\n",
        "    return output\n",
        "\n",
        "def test_freq():\n",
        "    assert freq(2,[2,3,56,29,2,45,2,24,2,2,2,22,2,22]) ==7\n",
        "    assert freq(1,[1,3,4,5,1])==2\n",
        "    assert freq(2,[-2,2])==1\n",
        "    test_freq()"
      ],
      "execution_count": 29,
      "outputs": []
    },
    {
      "cell_type": "markdown",
      "metadata": {
        "id": "e6VjX564A3-R",
        "colab_type": "text"
      },
      "source": [
        "The above function works well"
      ]
    },
    {
      "cell_type": "markdown",
      "metadata": {
        "id": "0egLuunFSZgF",
        "colab_type": "text"
      },
      "source": [
        "### <font color=\"red\"> Exercise 4 </font>\n",
        "\n",
        "Write a function called `between` that takes value `a`, `b` and a list `L` as arguments and returns `True` when all of the elements of `L` that strictly between `a` and `b`.\n",
        "\n",
        "**Example** `between(0, 5,[1,2,1,3,4]) == True`\n",
        "\n",
        "**Hint** Use a boolean expresion and the `all` function."
      ]
    },
    {
      "cell_type": "code",
      "metadata": {
        "id": "VohdCPWYTJRT",
        "colab_type": "code",
        "colab": {
          "base_uri": "https://localhost:8080/",
          "height": 34
        },
        "outputId": "200d7b36-c0d1-4e6f-8fce-f16df24dde23"
      },
      "source": [
        "inz = lambda a,b,l: \n"
      ],
      "execution_count": null,
      "outputs": [
        {
          "output_type": "execute_result",
          "data": {
            "text/plain": [
              "[3, 4, 5]"
            ]
          },
          "metadata": {
            "tags": []
          },
          "execution_count": 50
        }
      ]
    },
    {
      "cell_type": "code",
      "metadata": {
        "id": "meqPUeT0TJfX",
        "colab_type": "code",
        "colab": {}
      },
      "source": [
        ""
      ],
      "execution_count": null,
      "outputs": []
    }
  ]
}